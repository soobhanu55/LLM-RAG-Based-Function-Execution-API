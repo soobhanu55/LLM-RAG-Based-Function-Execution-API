{
 "cells": [
  {
   "cell_type": "markdown",
   "id": "46d318ad",
   "metadata": {},
   "source": [
    "# LLM + RAG Based Function Execution API 🔧🤖\n",
    "\n",
    "This project integrates a lightweight LLM-like prompt processor with a function registry and dynamic code generation to simulate real-world function execution.\n",
    "\n",
    "- **Framework:** FastAPI\n",
    "- **Use Case:** Executing functions like opening Chrome, checking CPU usage, or running shell commands.\n",
    "- **Tech Concepts:** Prompt parsing, keyword matching, dynamic code generation, context memory."
   ]
  },
  {
   "cell_type": "code",
   "execution_count": null,
   "id": "5e8baaa1",
   "metadata": {},
   "outputs": [],
   "source": [
    "functions = {\n",
    "    \"open_chrome\": {\n",
    "        \"description\": \"Open Google Chrome browser\",\n",
    "        \"code\": \"webbrowser.open('https://www.google.com')\",\n",
    "        \"keywords\": [\"chrome\", \"browser\", \"google\", \"web\", \"internet\", \"open\"]\n",
    "    },\n",
    "    \"get_cpu_usage\": {\n",
    "        \"description\": \"Retrieve current CPU usage\",\n",
    "        \"code\": \"os.popen('wmic cpu get loadpercentage').read()\",\n",
    "        \"keywords\": [\"cpu\", \"processor\", \"usage\", \"load\", \"system\", \"monitor\"]\n",
    "    },\n",
    "    \"execute_shell_command\": {\n",
    "        \"description\": \"Execute a shell command safely\",\n",
    "        \"code\": \"os.popen(command).read()\",\n",
    "        \"keywords\": [\"shell\", \"command\", \"execute\", \"run\", \"terminal\"]\n",
    "    }\n",
    "}"
   ]
  },
  {
   "cell_type": "code",
   "execution_count": null,
   "id": "4e045c08",
   "metadata": {},
   "outputs": [],
   "source": [
    "def find_best_function(prompt: str) -> str:\n",
    "    prompt_words = set(prompt.lower().split())\n",
    "    best_match = None\n",
    "    best_score = 0\n",
    "\n",
    "    for func_name, func_data in functions.items():\n",
    "        keywords = set(func_data[\"keywords\"])\n",
    "        description_words = set(func_data[\"description\"].lower().split())\n",
    "        score = len(prompt_words.intersection(keywords.union(description_words)))\n",
    "\n",
    "        if score > best_score:\n",
    "            best_score = score\n",
    "            best_match = func_name\n",
    "\n",
    "    return best_match if best_score > 0 else \"No match found\"\n",
    "\n",
    "# Example\n",
    "find_best_function(\"Can you open my browser?\")"
   ]
  },
  {
   "cell_type": "code",
   "execution_count": null,
   "id": "76127e66",
   "metadata": {},
   "outputs": [],
   "source": [
    "def generate_dynamic_code(function_name: str) -> str:\n",
    "    function_data = functions[function_name]\n",
    "    return f\"\"\"\n",
    "try:\n",
    "    # Execute {function_name}: {function_data['description']}\n",
    "    {function_data['code']}\n",
    "    print(\\\"Successfully executed {function_name}\\\")\n",
    "except Exception as e:\n",
    "    print(f\\\"Error executing {function_name}: {{str(e)}}\\\")\n",
    "\"\"\"\n",
    "\n",
    "# Example\n",
    "print(generate_dynamic_code(\"get_cpu_usage\"))"
   ]
  },
  {
   "cell_type": "code",
   "execution_count": null,
   "id": "288d67dc",
   "metadata": {},
   "outputs": [],
   "source": [
    "from collections import deque\n",
    "import datetime\n",
    "\n",
    "context_memory = deque(maxlen=5)\n",
    "\n",
    "def update_context(prompt: str, function_name: str):\n",
    "    context_memory.append({\n",
    "        \"prompt\": prompt,\n",
    "        \"function\": function_name,\n",
    "        \"timestamp\": str(datetime.datetime.now())\n",
    "    })\n",
    "\n",
    "update_context(\"Open Google\", \"open_chrome\")\n",
    "update_context(\"Check CPU\", \"get_cpu_usage\")\n",
    "\n",
    "context_memory"
   ]
  },
  {
   "cell_type": "code",
   "execution_count": null,
   "id": "2a1ce306",
   "metadata": {},
   "outputs": [],
   "source": [
    "user_prompt = \"Please run the shell command\"\n",
    "matched_func = find_best_function(user_prompt)\n",
    "\n",
    "if matched_func != \"No match found\":\n",
    "    update_context(user_prompt, matched_func)\n",
    "    code = generate_dynamic_code(matched_func)\n",
    "    print(\"Generated Code:\\n\", code)\n",
    "else:\n",
    "    print(\"No matching function.\")"
   ]
  },
  {
   "cell_type": "markdown",
   "id": "a451d751",
   "metadata": {},
   "source": [
    "## Key Takeaways:\n",
    "- Used basic NLP techniques to semantically match user prompts to functions.\n",
    "- Demonstrated context memory using Python's deque.\n",
    "- Showed how LLM-inspired backend logic can power dynamic automation.\n",
    "\n",
    "This approach can be extended to a real LLM + RAG architecture using tools like LangChain, OpenAI, or HuggingFace APIs."
   ]
  }
 ],
 "metadata": {},
 "nbformat": 4,
 "nbformat_minor": 5
}
